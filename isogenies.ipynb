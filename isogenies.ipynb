{
 "cells": [
  {
   "cell_type": "code",
   "execution_count": 3,
   "metadata": {},
   "outputs": [],
   "source": [
    "# If you haven't a local copy of sidh-optimizer, run\n",
    "#\n",
    "#!pip install https://github.com/sidh-crypto/sidh-optimizer.git"
   ]
  },
  {
   "cell_type": "code",
   "execution_count": 4,
   "metadata": {},
   "outputs": [],
   "source": [
    "from sidh_optimizer.formulas import *"
   ]
  },
  {
   "cell_type": "code",
   "execution_count": 5,
   "metadata": {},
   "outputs": [],
   "source": [
    "sympy.init_printing()"
   ]
  },
  {
   "cell_type": "markdown",
   "metadata": {},
   "source": [
    "## A quick tour\n",
    "\n",
    "The `formulas` module contains symbolic representations of elliptic curve formulas. These representations can be visualized as `sympy` expressions, but also know about their computational cost.\n",
    "\n",
    "We start with the classic Edwards addition formula. Here an Edwards curve is a curve of the form\n",
    "\n",
    "$$E(x^2 + y^2) = E + Dx^2y^2.$$\n",
    "\n",
    "Dividing both sides by $E$ gives the usual definition of Edwards curves.\n",
    "\n",
    "Here is the addition formulas in projective coordinates for this generlized Edwards curve."
   ]
  },
  {
   "cell_type": "code",
   "execution_count": 6,
   "metadata": {},
   "outputs": [
    {
     "data": {
      "text/plain": [
       "(E*Z1*Z2*(-D*X1*X2*Y1*Y2 + E*Z1**2*Z2**2)*(-X1*X2 - Y1*Y2 + (X1 + Y1)*(X2 + Y2)),\n",
       " E*Z1*Z2*(-X1*X2 + Y1*Y2)*(D*X1*X2*Y1*Y2 + E*Z1**2*Z2**2),\n",
       " (-D*X1*X2*Y1*Y2 + E*Z1**2*Z2**2)*(D*X1*X2*Y1*Y2 + E*Z1**2*Z2**2))"
      ]
     },
     "execution_count": 6,
     "metadata": {},
     "output_type": "execute_result"
    }
   ],
   "source": [
    "X, Y, Z = ed_add(Var('X1'), Var('Y1'), Var('Z1'),\n",
    "                 Var('X2'), Var('Y2'), Var('Z2'),\n",
    "                 Var('D'), Var('E'))\n",
    "X, Y, Z"
   ]
  },
  {
   "cell_type": "markdown",
   "metadata": {},
   "source": [
    "The formulas know about their computational cost."
   ]
  },
  {
   "cell_type": "code",
   "execution_count": 7,
   "metadata": {},
   "outputs": [
    {
     "data": {
      "text/plain": [
       "13M + 7A + 1S"
      ]
     },
     "execution_count": 7,
     "metadata": {},
     "output_type": "execute_result"
    }
   ],
   "source": [
    "cost(X, Y, Z)"
   ]
  },
  {
   "cell_type": "markdown",
   "metadata": {},
   "source": [
    "Note that the above function shares common subexpressions. If we compute the costs individually, we obtain a higher operation count."
   ]
  },
  {
   "cell_type": "code",
   "execution_count": 8,
   "metadata": {},
   "outputs": [
    {
     "data": {
      "text/plain": [
       "(5A + 10M + 1S, 2A + 9M + 1S, 2A + 7M + 1S)"
      ]
     },
     "execution_count": 8,
     "metadata": {},
     "output_type": "execute_result"
    }
   ],
   "source": [
    "X.cost(), Y.cost(), Z.cost()"
   ]
  },
  {
   "cell_type": "markdown",
   "metadata": {},
   "source": [
    "We can have a better look at the formulas by using `sympy`"
   ]
  },
  {
   "cell_type": "code",
   "execution_count": 9,
   "metadata": {},
   "outputs": [
    {
     "data": {
      "image/png": "[encoded data removed]",
      "text/latex": [
       "$$\\left [ E Z_{1} Z_{2} \\left(D X_{1} X_{2} Y_{1} Y_{2} - E Z_{1}^{2} Z_{2}^{2}\\right) \\left(X_{1} X_{2} + Y_{1} Y_{2} - \\left(X_{1} + Y_{1}\\right) \\left(X_{2} + Y_{2}\\right)\\right), \\quad - E Z_{1} Z_{2} \\left(X_{1} X_{2} - Y_{1} Y_{2}\\right) \\left(D X_{1} X_{2} Y_{1} Y_{2} + E Z_{1}^{2} Z_{2}^{2}\\right), \\quad - D^{2} X_{1}^{2} X_{2}^{2} Y_{1}^{2} Y_{2}^{2} + E^{2} Z_{1}^{4} Z_{2}^{4}\\right ]$$"
      ],
      "text/plain": [
       "⎡        ⎛                    2   2⎞                                          \n",
       "⎣E⋅Z₁⋅Z₂⋅⎝D⋅X₁⋅X₂⋅Y₁⋅Y₂ - E⋅Z₁ ⋅Z₂ ⎠⋅(X₁⋅X₂ + Y₁⋅Y₂ - (X₁ + Y₁)⋅(X₂ + Y₂)), -E\n",
       "\n",
       "                       ⎛                    2   2⎞     2   2   2   2   2    2 \n",
       "⋅Z₁⋅Z₂⋅(X₁⋅X₂ - Y₁⋅Y₂)⋅⎝D⋅X₁⋅X₂⋅Y₁⋅Y₂ + E⋅Z₁ ⋅Z₂ ⎠, - D ⋅X₁ ⋅X₂ ⋅Y₁ ⋅Y₂  + E ⋅\n",
       "\n",
       "  4   4⎤\n",
       "Z₁ ⋅Z₂ ⎦"
      ]
     },
     "execution_count": 9,
     "metadata": {},
     "output_type": "execute_result"
    }
   ],
   "source": [
    "[f.formula.simplify() for f in (X,Y,Z)]"
   ]
  },
  {
   "cell_type": "markdown",
   "metadata": {},
   "source": [
    "This might be a little hard to check, let's fix some variables, so that we obtain the classic affine formula"
   ]
  },
  {
   "cell_type": "code",
   "execution_count": 10,
   "metadata": {},
   "outputs": [
    {
     "data": {
      "image/png": "[encoded data removed]",
      "text/latex": [
       "$$\\left [ \\left(X_{1} X_{2} Y_{1} Y_{2} d - 1\\right) \\left(X_{1} X_{2} + Y_{1} Y_{2} - \\left(X_{1} + Y_{1}\\right) \\left(X_{2} + Y_{2}\\right)\\right), \\quad - \\left(X_{1} X_{2} - Y_{1} Y_{2}\\right) \\left(X_{1} X_{2} Y_{1} Y_{2} d + 1\\right), \\quad - X_{1}^{2} X_{2}^{2} Y_{1}^{2} Y_{2}^{2} d^{2} + 1\\right ]$$"
      ],
      "text/plain": [
       "⎡                                                                             \n",
       "⎣(X₁⋅X₂⋅Y₁⋅Y₂⋅d - 1)⋅(X₁⋅X₂ + Y₁⋅Y₂ - (X₁ + Y₁)⋅(X₂ + Y₂)), -(X₁⋅X₂ - Y₁⋅Y₂)⋅(\n",
       "\n",
       "                        2   2   2   2  2    ⎤\n",
       "X₁⋅X₂⋅Y₁⋅Y₂⋅d + 1), - X₁ ⋅X₂ ⋅Y₁ ⋅Y₂ ⋅d  + 1⎦"
      ]
     },
     "execution_count": 10,
     "metadata": {},
     "output_type": "execute_result"
    }
   ],
   "source": [
    "X, Y, Z = ed_add(Var('X1'), Var('Y1'), Const(1),\n",
    "                 Var('X2'), Var('Y2'), Const(1),\n",
    "                 Var('d'), Const(1))\n",
    "[f.formula.simplify() for f in (X,Y,Z)]"
   ]
  },
  {
   "cell_type": "markdown",
   "metadata": {},
   "source": [
    "We have the same for doubling (the formula does not depend on $D,E$)."
   ]
  },
  {
   "cell_type": "code",
   "execution_count": 11,
   "metadata": {},
   "outputs": [
    {
     "data": {
      "image/png": "[encoded data removed]",
      "text/latex": [
       "$$\\left [ 2 X Y \\left(X^{2} + Y^{2} - 2 Z^{2}\\right), \\quad X^{4} - Y^{4}, \\quad \\left(X^{2} + Y^{2}\\right) \\left(X^{2} + Y^{2} - 2 Z^{2}\\right)\\right ]$$"
      ],
      "text/plain": [
       "⎡      ⎛ 2    2      2⎞   4    4  ⎛ 2    2⎞ ⎛ 2    2      2⎞⎤\n",
       "⎣2⋅X⋅Y⋅⎝X  + Y  - 2⋅Z ⎠, X  - Y , ⎝X  + Y ⎠⋅⎝X  + Y  - 2⋅Z ⎠⎦"
      ]
     },
     "execution_count": 11,
     "metadata": {},
     "output_type": "execute_result"
    }
   ],
   "source": [
    "X, Y, Z = ed_double(Var('X'), Var('Y'), Var('Z'))\n",
    "[f.formula.simplify() for f in (X,Y,Z)]"
   ]
  },
  {
   "cell_type": "markdown",
   "metadata": {},
   "source": [
    "## Isogenies\n",
    "\n",
    "Let's move to the interesting stuff. The isogeny formula from Section 4.3 of https://www.microsoft.com/en-us/research/wp-content/uploads/2016/02/edwardsisogenies.pdf, reads\n",
    "\n",
    "$$ψ(x,y) = \\left(x\\prod_{i=1}^s\\frac{β_i^2 x^2 - α_i^2y^2}{β_i^2 - d^2α_i^2β_i^4x^2y^2},\n",
    "y\\prod_{i=1}^s\\frac{β_i^2 y^2 - α_i^2x^2}{β_i^2 - d^2α_i^2β_i^4x^2y^2}\\right)$$\n",
    "\n",
    "where $(±α_i,β_i)$ are the coordinates of the kernel of $ψ$, and $d=D/E$.\n",
    "\n",
    "Here is a projective version (both for the point coordinates and the curve invariant) of the formula. We separate the computations that depend upon $x,y$ (the *isogeny evaluation*) from those that are independent (the *next curve*); the function returns\n",
    "\n",
    "- The invaraint of the image curve;\n",
    "- Costants independent of $x,y$ needed for the isogeny evaluation;\n",
    "- The evaluation formula."
   ]
  },
  {
   "cell_type": "code",
   "execution_count": 12,
   "metadata": {},
   "outputs": [],
   "source": [
    "curve, consts, isog = edwards(3,\n",
    "                              Var('D'), Var('E'),\n",
    "                              Var('α'), Var('β'), Var('γ'),\n",
    "                              Var('X'), Var('Y'), Var('Z'))"
   ]
  },
  {
   "cell_type": "code",
   "execution_count": 13,
   "metadata": {},
   "outputs": [
    {
     "data": {
      "text/latex": [
       "$$\\left [ D^{3} β^{8}, \\quad E^{3} γ^{8}\\right ]$$"
      ],
      "text/plain": [
       "⎡ 3  8   3  8⎤\n",
       "⎣D ⋅β , E ⋅γ ⎦"
      ]
     },
     "execution_count": 13,
     "metadata": {},
     "output_type": "execute_result"
    }
   ],
   "source": [
    "[c.formula for c in curve]"
   ]
  },
  {
   "cell_type": "code",
   "execution_count": 14,
   "metadata": {},
   "outputs": [
    {
     "data": {
      "text/latex": [
       "$$\\left [ \\left [ E β^{2} γ^{4}, \\quad E α^{2} γ^{4}, \\quad D α^{2} β^{4}\\right ]\\right ]$$"
      ],
      "text/plain": [
       "⎡⎡   2  4     2  4     2  4⎤⎤\n",
       "⎣⎣E⋅β ⋅γ , E⋅α ⋅γ , D⋅α ⋅β ⎦⎦"
      ]
     },
     "execution_count": 14,
     "metadata": {},
     "output_type": "execute_result"
    }
   ],
   "source": [
    "[[c.formula for c in cs] for cs in consts]"
   ]
  },
  {
   "cell_type": "code",
   "execution_count": 15,
   "metadata": {},
   "outputs": [
    {
     "data": {
      "image/png": "[encoded data removed]",
      "text/latex": [
       "$$\\left [ X \\left(A_{0} X^{2} - B_{0} Y^{2}\\right), \\quad Y \\left(A_{0} Y^{2} - B_{0} X^{2}\\right), \\quad Z \\left(A_{0} Z^{2} - D_{0} \\left(X^{2} + Y^{2} - Z^{2}\\right)\\right)\\right ]$$"
      ],
      "text/plain": [
       "⎡  ⎛    2       2⎞    ⎛    2       2⎞    ⎛    2      ⎛ 2    2    2⎞⎞⎤\n",
       "⎣X⋅⎝A₀⋅X  - B₀⋅Y ⎠, Y⋅⎝A₀⋅Y  - B₀⋅X ⎠, Z⋅⎝A₀⋅Z  - D₀⋅⎝X  + Y  - Z ⎠⎠⎦"
      ]
     },
     "execution_count": 15,
     "metadata": {},
     "output_type": "execute_result"
    }
   ],
   "source": [
    "[f.formula.simplify() for f in isog]"
   ]
  },
  {
   "cell_type": "markdown",
   "metadata": {},
   "source": [
    "In the latter formula, $A_0, B_0, D_0$ represent the pre-computed values stored in `consts`.\n",
    "\n",
    "Let's substitute them and check that the formula is correct."
   ]
  },
  {
   "cell_type": "code",
   "execution_count": 16,
   "metadata": {},
   "outputs": [
    {
     "data": {
      "text/latex": [
       "$$\\left [ X \\left(E X^{2} β^{2} γ^{4} - E Y^{2} α^{2} γ^{4}\\right), \\quad Y \\left(- E X^{2} α^{2} γ^{4} + E Y^{2} β^{2} γ^{4}\\right), \\quad Z \\left(- D α^{2} β^{4} \\left(X^{2} + Y^{2} - Z^{2}\\right) + E Z^{2} β^{2} γ^{4}\\right)\\right ]$$"
      ],
      "text/plain": [
       "⎡  ⎛   2  2  4      2  2  4⎞    ⎛     2  2  4      2  2  4⎞    ⎛     2  4 ⎛ 2 \n",
       "⎣X⋅⎝E⋅X ⋅β ⋅γ  - E⋅Y ⋅α ⋅γ ⎠, Y⋅⎝- E⋅X ⋅α ⋅γ  + E⋅Y ⋅β ⋅γ ⎠, Z⋅⎝- D⋅α ⋅β ⋅⎝X  \n",
       "\n",
       "   2    2⎞      2  2  4⎞⎤\n",
       "+ Y  - Z ⎠ + E⋅Z ⋅β ⋅γ ⎠⎦"
      ]
     },
     "execution_count": 16,
     "metadata": {},
     "output_type": "execute_result"
    }
   ],
   "source": [
    "isog2 = [f.formula.simplify().subs({\n",
    "    'A0':consts[0][0].formula,\n",
    "    'B0':consts[0][1].formula,\n",
    "    'D0':consts[0][2].formula,\n",
    "}) for f in isog]\n",
    "isog2"
   ]
  },
  {
   "cell_type": "markdown",
   "metadata": {},
   "source": [
    "These formulas look correct, but to be even more convinced, let's substitute the curve equation\n",
    "\n",
    "$$X^2+Y^2-Z^2 = \\frac{D X^2 Y^2}{E Z^2},$$\n",
    "\n",
    "divide all members by $Eγ^6Z^3$, and replace affine coordinates."
   ]
  },
  {
   "cell_type": "code",
   "execution_count": 17,
   "metadata": {},
   "outputs": [
    {
     "data": {
      "text/latex": [
       "$$\\left [ X \\left(X^{2} β^{2} - Y^{2} α^{2}\\right), \\quad Y \\left(- X^{2} α^{2} + Y^{2} β^{2}\\right), \\quad - D^{2} X^{2} Y^{2} α^{2} β^{4} + β^{2}\\right ]$$"
      ],
      "text/plain": [
       "⎡  ⎛ 2  2    2  2⎞    ⎛   2  2    2  2⎞     2  2  2  2  4    2⎤\n",
       "⎣X⋅⎝X ⋅β  - Y ⋅α ⎠, Y⋅⎝- X ⋅α  + Y ⋅β ⎠, - D ⋅X ⋅Y ⋅α ⋅β  + β ⎦"
      ]
     },
     "execution_count": 17,
     "metadata": {},
     "output_type": "execute_result"
    }
   ],
   "source": [
    "X, Y, Z, a, b, c, D, E = sympy.symbols('X Y Z α β γ D E')\n",
    "[(i.subs({X**2+Y**2-Z**2: D*X**2*Y**2/(E*Z**2)}) / (E*c**6*Z**3)).expand().subs({\n",
    "    a/c: a,\n",
    "    b/c: b,\n",
    "    X/Z: X,\n",
    "    Y/Z: Y,\n",
    "    D/E: D,\n",
    "}).simplify() for i in isog2]"
   ]
  },
  {
   "cell_type": "markdown",
   "metadata": {},
   "source": [
    "Let's now move to the costs. The *next curve* computation contains both the curve invariant and the pre-computed constants"
   ]
  },
  {
   "cell_type": "code",
   "execution_count": 18,
   "metadata": {},
   "outputs": [
    {
     "data": {
      "text/plain": [
       "9M + 9S"
      ]
     },
     "execution_count": 18,
     "metadata": {},
     "output_type": "execute_result"
    }
   ],
   "source": [
    "cost(*curve, *sum(consts, ()))"
   ]
  },
  {
   "cell_type": "markdown",
   "metadata": {},
   "source": [
    "While the *isogeny evaluation* only comprises the latter formulas"
   ]
  },
  {
   "cell_type": "code",
   "execution_count": 19,
   "metadata": {},
   "outputs": [
    {
     "data": {
      "text/plain": [
       "8A + 8M + 3S"
      ]
     },
     "execution_count": 19,
     "metadata": {},
     "output_type": "execute_result"
    }
   ],
   "source": [
    "cost(*isog)"
   ]
  },
  {
   "cell_type": "markdown",
   "metadata": {
    "collapsed": true
   },
   "source": [
    "Obviously, these costs must be taken as upper bounds on the cost of isogeny evaluation. There are indeed (much) better formulas known for 3-isogenies of Edwards curves.\n",
    "\n",
    "Finally, let's find out how the costs increase with the degree."
   ]
  },
  {
   "cell_type": "code",
   "execution_count": 20,
   "metadata": {},
   "outputs": [
    {
     "name": "stdout",
     "output_type": "stream",
     "text": [
      "[5S + 5M, 4S + 4M, 8A + 8M + 3S]\n",
      "[9S + 15M + 7A, 2S + 2M + 0A, 6A + 8M + 0S]\n",
      "[6S + 18M + 7A, 0S + 4M + 0A, 8M + 6A + 0S]\n",
      "[6S + 18M + 7A, 2S + 0M + 0A, 8M + 6A + 0S]\n",
      "[6S + 18M + 7A, 0S + 4M + 0A, 8M + 6A + 0S]\n",
      "[6S + 18M + 7A, 0S + 2M + 0A, 8M + 6A + 0S]\n",
      "[6S + 18M + 7A, 0S + 4M + 0A, 8M + 6A + 0S]\n",
      "[6S + 18M + 7A, 2S + -2M + 0A, 8M + 6A + 0S]\n",
      "[6S + 18M + 7A, 0S + 4M + 0A, 8M + 6A + 0S]\n"
     ]
    }
   ],
   "source": [
    "def get_costs(ell):\n",
    "    E, c, I = edwards(ell)\n",
    "    pre, consts, isog = cost(*E, *sum(c, ())), cost(*sum(c,())), cost(*I)\n",
    "    return consts, pre-consts, isog\n",
    "\n",
    "prev = [Cost()]*3\n",
    "for ell in range(3, 20, 2):\n",
    "    next = get_costs(ell)\n",
    "    print([n-p for n, p in zip(next, prev)])\n",
    "    prev = next"
   ]
  },
  {
   "cell_type": "markdown",
   "metadata": {},
   "source": [
    "We see that the cost of the *next curve* operation for $ℓ=2s+1$ is $(18s-13)M + (9s-4)S$ plus a (small) variable number of multiplications and squarings coming from the computation of the next invariant (the variability comes from the way $d^ℓ$ is computed).\n",
    "\n",
    "The cost for the *isogeny evaluation* is $8sM + 3S$."
   ]
  },
  {
   "cell_type": "markdown",
   "metadata": {
    "collapsed": true
   },
   "source": [
    "## Montgomery curves\n",
    "\n",
    "Using the formulas from https://eprint.iacr.org/2017/504.pdf, https://eprint.iacr.org/2017/1198.pdf.\n"
   ]
  },
  {
   "cell_type": "code",
   "execution_count": null,
   "metadata": {},
   "outputs": [],
   "source": []
  }
 ],
 "metadata": {
  "kernelspec": {
   "display_name": "Python 3",
   "language": "python",
   "name": "python3"
  },
  "language_info": {
   "codemirror_mode": {
    "name": "ipython",
    "version": 3
   },
   "file_extension": ".py",
   "mimetype": "text/x-python",
   "name": "python",
   "nbconvert_exporter": "python",
   "pygments_lexer": "ipython3",
   "version": "3.7.0"
  }
 },
 "nbformat": 4,
 "nbformat_minor": 2
}
